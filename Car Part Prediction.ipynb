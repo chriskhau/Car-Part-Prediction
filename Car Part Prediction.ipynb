{
 "cells": [
  {
   "cell_type": "markdown",
   "metadata": {},
   "source": [
    "# Car Manufacturer Parts Prediction\n",
    "\n",
    "A Car Manufacturers needs to sell products; e.g. radio, GPS navigation, speekers, etc. for multiple years after they stop producing. The supplier for these manufacturers needs to keep enough parts avaiable for around 15-20 years, but production for these products end after a few years of production. If the supplier orders too many parts, this could lead to millions of dollars being lost in excess product. Or if the supplier orders too few, this could lead to lower profits and customer statisfaction.\n",
    "\n",
    "The goal is to create a forecasting tool that will be able to predict the amount of parts needed to keep for these 15-20 years."
   ]
  },
  {
   "cell_type": "code",
   "execution_count": 329,
   "metadata": {
    "collapsed": true
   },
   "outputs": [],
   "source": [
    "import pandas as pd\n",
    "from pandas import ExcelWriter\n",
    "from pandas import ExcelFile\n",
    "import numpy as np\n",
    "import matplotlib\n",
    "import matplotlib.pyplot as plt\n",
    "%matplotlib inline"
   ]
  },
  {
   "cell_type": "markdown",
   "metadata": {},
   "source": [
    "## Explaining the categories\n",
    "\n",
    "The data set given was provided by a supplier for a car Manufacturer. The data set uses 'ML_category' to outlines specific categories that each part is classifed in. Under 'Type Prod Sold MP_SVC' data is classified as either MP or SVC. MP stands for Mass Production and SVC and for service. MP parts are sold when they are installed into the car and SVC are products sold to consumers when a new part is needed. Sales are counted cumulatively for each year and go up to 14 years. The first year is categorized as 'yr1sales' and year 14 denoted as 'yr14sales'. The last category that I used in my calculation was the 'Reman/non-reman' category. If the part was placed under 'reman' then the part could remanufactured and repaired.'non-reman' means that the product can not be repaired and must be replaced with a SVC part "
   ]
  },
  {
   "cell_type": "code",
   "execution_count": 330,
   "metadata": {},
   "outputs": [
    {
     "data": {
      "text/html": [
       "<div>\n",
       "<style>\n",
       "    .dataframe thead tr:only-child th {\n",
       "        text-align: right;\n",
       "    }\n",
       "\n",
       "    .dataframe thead th {\n",
       "        text-align: left;\n",
       "    }\n",
       "\n",
       "    .dataframe tbody tr th {\n",
       "        vertical-align: top;\n",
       "    }\n",
       "</style>\n",
       "<table border=\"1\" class=\"dataframe\">\n",
       "  <thead>\n",
       "    <tr style=\"text-align: right;\">\n",
       "      <th></th>\n",
       "      <th>ML_category</th>\n",
       "      <th>Part Number</th>\n",
       "      <th>Type Prod Sold MP_SVC</th>\n",
       "      <th>Last Year SVC Part Sold</th>\n",
       "      <th>intro_year</th>\n",
       "      <th>intro_mp_year</th>\n",
       "      <th>Number of Years SVC Part sold</th>\n",
       "      <th>yr1sales</th>\n",
       "      <th>yr2sales</th>\n",
       "      <th>yr3sales</th>\n",
       "      <th>...</th>\n",
       "      <th>yr8sales</th>\n",
       "      <th>yr9sales</th>\n",
       "      <th>yr10sales</th>\n",
       "      <th>yr11sales</th>\n",
       "      <th>yr12sales</th>\n",
       "      <th>yr13sales</th>\n",
       "      <th>yr14sales</th>\n",
       "      <th>net_price</th>\n",
       "      <th>Market</th>\n",
       "      <th>Reman/non-reman</th>\n",
       "    </tr>\n",
       "  </thead>\n",
       "  <tbody>\n",
       "    <tr>\n",
       "      <th>0</th>\n",
       "      <td>GPS ANT</td>\n",
       "      <td>ACC005</td>\n",
       "      <td>MP</td>\n",
       "      <td>2008</td>\n",
       "      <td>2004</td>\n",
       "      <td>2004</td>\n",
       "      <td>6</td>\n",
       "      <td>10779</td>\n",
       "      <td>24553</td>\n",
       "      <td>31480</td>\n",
       "      <td>...</td>\n",
       "      <td>36079</td>\n",
       "      <td>36079</td>\n",
       "      <td>36079</td>\n",
       "      <td>36079</td>\n",
       "      <td>36079</td>\n",
       "      <td>36079</td>\n",
       "      <td>36079</td>\n",
       "      <td>9</td>\n",
       "      <td>US</td>\n",
       "      <td>non-reman</td>\n",
       "    </tr>\n",
       "    <tr>\n",
       "      <th>1</th>\n",
       "      <td>GPS ANT</td>\n",
       "      <td>ACC005</td>\n",
       "      <td>SVC</td>\n",
       "      <td>2009</td>\n",
       "      <td>2004</td>\n",
       "      <td>2004</td>\n",
       "      <td>6</td>\n",
       "      <td>50</td>\n",
       "      <td>140</td>\n",
       "      <td>206</td>\n",
       "      <td>...</td>\n",
       "      <td>277</td>\n",
       "      <td>277</td>\n",
       "      <td>277</td>\n",
       "      <td>277</td>\n",
       "      <td>277</td>\n",
       "      <td>277</td>\n",
       "      <td>277</td>\n",
       "      <td>12</td>\n",
       "      <td>US</td>\n",
       "      <td>non-reman</td>\n",
       "    </tr>\n",
       "    <tr>\n",
       "      <th>2</th>\n",
       "      <td>GPS ANT</td>\n",
       "      <td>ACC008</td>\n",
       "      <td>MP</td>\n",
       "      <td>2008</td>\n",
       "      <td>2004</td>\n",
       "      <td>2004</td>\n",
       "      <td>10</td>\n",
       "      <td>9808</td>\n",
       "      <td>22480</td>\n",
       "      <td>30285</td>\n",
       "      <td>...</td>\n",
       "      <td>35375</td>\n",
       "      <td>35375</td>\n",
       "      <td>35375</td>\n",
       "      <td>35375</td>\n",
       "      <td>35375</td>\n",
       "      <td>35375</td>\n",
       "      <td>35375</td>\n",
       "      <td>9</td>\n",
       "      <td>US</td>\n",
       "      <td>non-reman</td>\n",
       "    </tr>\n",
       "    <tr>\n",
       "      <th>3</th>\n",
       "      <td>GPS ANT</td>\n",
       "      <td>ACC008</td>\n",
       "      <td>SVC</td>\n",
       "      <td>2013</td>\n",
       "      <td>2004</td>\n",
       "      <td>2005</td>\n",
       "      <td>10</td>\n",
       "      <td>0</td>\n",
       "      <td>19</td>\n",
       "      <td>19</td>\n",
       "      <td>...</td>\n",
       "      <td>35</td>\n",
       "      <td>35</td>\n",
       "      <td>41</td>\n",
       "      <td>41</td>\n",
       "      <td>41</td>\n",
       "      <td>41</td>\n",
       "      <td>41</td>\n",
       "      <td>10</td>\n",
       "      <td>US</td>\n",
       "      <td>non-reman</td>\n",
       "    </tr>\n",
       "    <tr>\n",
       "      <th>4</th>\n",
       "      <td>TMC receiver</td>\n",
       "      <td>ACC017</td>\n",
       "      <td>MP</td>\n",
       "      <td>2007</td>\n",
       "      <td>2005</td>\n",
       "      <td>2005</td>\n",
       "      <td>7</td>\n",
       "      <td>453</td>\n",
       "      <td>582</td>\n",
       "      <td>680</td>\n",
       "      <td>...</td>\n",
       "      <td>680</td>\n",
       "      <td>680</td>\n",
       "      <td>680</td>\n",
       "      <td>680</td>\n",
       "      <td>680</td>\n",
       "      <td>680</td>\n",
       "      <td>680</td>\n",
       "      <td>126</td>\n",
       "      <td>US</td>\n",
       "      <td>non-reman</td>\n",
       "    </tr>\n",
       "    <tr>\n",
       "      <th>5</th>\n",
       "      <td>TMC receiver</td>\n",
       "      <td>ACC017</td>\n",
       "      <td>SVC</td>\n",
       "      <td>2011</td>\n",
       "      <td>2005</td>\n",
       "      <td>2005</td>\n",
       "      <td>7</td>\n",
       "      <td>4</td>\n",
       "      <td>63</td>\n",
       "      <td>63</td>\n",
       "      <td>...</td>\n",
       "      <td>102</td>\n",
       "      <td>102</td>\n",
       "      <td>102</td>\n",
       "      <td>102</td>\n",
       "      <td>102</td>\n",
       "      <td>102</td>\n",
       "      <td>102</td>\n",
       "      <td>125</td>\n",
       "      <td>US</td>\n",
       "      <td>non-reman</td>\n",
       "    </tr>\n",
       "  </tbody>\n",
       "</table>\n",
       "<p>6 rows × 24 columns</p>\n",
       "</div>"
      ],
      "text/plain": [
       "    ML_category Part Number Type Prod Sold MP_SVC  Last Year SVC Part Sold  \\\n",
       "0       GPS ANT      ACC005                    MP                     2008   \n",
       "1       GPS ANT      ACC005                   SVC                     2009   \n",
       "2       GPS ANT      ACC008                    MP                     2008   \n",
       "3       GPS ANT      ACC008                   SVC                     2013   \n",
       "4  TMC receiver      ACC017                    MP                     2007   \n",
       "5  TMC receiver      ACC017                   SVC                     2011   \n",
       "\n",
       "   intro_year  intro_mp_year  Number of Years SVC Part sold  yr1sales  \\\n",
       "0        2004           2004                              6     10779   \n",
       "1        2004           2004                              6        50   \n",
       "2        2004           2004                             10      9808   \n",
       "3        2004           2005                             10         0   \n",
       "4        2005           2005                              7       453   \n",
       "5        2005           2005                              7         4   \n",
       "\n",
       "   yr2sales  yr3sales       ...         yr8sales  yr9sales  yr10sales  \\\n",
       "0     24553     31480       ...            36079     36079      36079   \n",
       "1       140       206       ...              277       277        277   \n",
       "2     22480     30285       ...            35375     35375      35375   \n",
       "3        19        19       ...               35        35         41   \n",
       "4       582       680       ...              680       680        680   \n",
       "5        63        63       ...              102       102        102   \n",
       "\n",
       "   yr11sales  yr12sales  yr13sales  yr14sales  net_price  Market  \\\n",
       "0      36079      36079      36079      36079          9      US   \n",
       "1        277        277        277        277         12      US   \n",
       "2      35375      35375      35375      35375          9      US   \n",
       "3         41         41         41         41         10      US   \n",
       "4        680        680        680        680        126      US   \n",
       "5        102        102        102        102        125      US   \n",
       "\n",
       "   Reman/non-reman  \n",
       "0        non-reman  \n",
       "1        non-reman  \n",
       "2        non-reman  \n",
       "3        non-reman  \n",
       "4        non-reman  \n",
       "5        non-reman  \n",
       "\n",
       "[6 rows x 24 columns]"
      ]
     },
     "execution_count": 330,
     "metadata": {},
     "output_type": "execute_result"
    }
   ],
   "source": [
    "df = pd.read_excel(\"Car Part Data.xlsx\")\n",
    "\n",
    "row, column = df.shape\n",
    "df.head(6)"
   ]
  },
  {
   "cell_type": "markdown",
   "metadata": {},
   "source": [
    "At first I thought of seperating all of the data based on their 'ML_category' but I realised that this made the data too sparse. There would few categories with less than 10 data points and I would also have to further seperate these groups based on their mass production and service quantites."
   ]
  },
  {
   "cell_type": "code",
   "execution_count": 331,
   "metadata": {},
   "outputs": [],
   "source": [
    "y = np.array(df)\n",
    "\n",
    "ACC = y[:30,:] #GPS ANT & TMC receiver & accessory\n",
    "AMP = y[31:160,:] #AMP/Sound Control\n",
    "AVN = y[161:162,:] #AVN/AN\n",
    "CDA = y[163:240,:] #DVD Audio\n",
    "DIS = y[241:298,:] #display\n",
    "NAV = y[299:302,:] #Nav Map Disc\n",
    "PAN = y[303:310,:] #Panel\n",
    "RAD = y[311:328,:] #Radio Cassette & Radio Cassette CD\n",
    "SPE = y[329:418,:] #tweeter & subwoofer & speaker"
   ]
  },
  {
   "cell_type": "markdown",
   "metadata": {},
   "source": [
    "The second approach was to first seperate the data into two groups, MP and SVC. This method made sure that the indecies in the SVC and MassProduction for each part number would match with each other."
   ]
  },
  {
   "cell_type": "code",
   "execution_count": 332,
   "metadata": {},
   "outputs": [],
   "source": [
    "b = []\n",
    "for i in range(0,int(row/2)):\n",
    "    b.append(i*2 +1)\n",
    "\n",
    "mask = np.ones(len(y), dtype=bool)\n",
    "mask[b,] = False\n",
    "SVC, MassProduction = y[b], y[mask]"
   ]
  },
  {
   "cell_type": "markdown",
   "metadata": {},
   "source": [
    "## Linear Regression\n",
    "\n",
    "One of the approaches brought up by in a prior work was to calculate the SVC parts needed based on the number of mass production parts being sold. They would first seperate the parts into reman and non reman groups. Then they would seperate those groups based on the number of mass production products sold. The values I chose for each group was close to the original values used but the first group was changed to fit even bigger data sets. They would then take the average ratio of MP to SVC and use that to predict the service part number on a new proudct. But with this method of just taking the average ratio, there is potentially alot of varience within the data set which would cause a the predicted value to be off. I wanted to check to see if this would be a resonable approach by comparing r-squared values of linear models for each data set."
   ]
  },
  {
   "cell_type": "code",
   "execution_count": 333,
   "metadata": {},
   "outputs": [],
   "source": [
    "MPtotalSales = np.ravel(MassProduction[:,20:21])\n",
    "MPreman = np.ravel(MassProduction[:,23:24])\n",
    "\n",
    "MPgroup1reman = [] #100,000-2,000,000\n",
    "MPgroup2reman = [] #20,000-99,999\n",
    "MPgroup3reman = [] #5,000-19,999\n",
    "MPgroup4reman = [] #1,000-4,999\n",
    "MPgroup5reman = [] #below 1,000\n",
    "MPgroup1nonreman = []\n",
    "MPgroup2nonreman = []\n",
    "MPgroup3nonreman = []\n",
    "MPgroup4nonreman = []\n",
    "MPgroup5nonreman = []\n",
    "SVCgroup1reman = [] \n",
    "SVCgroup2reman = []\n",
    "SVCgroup3reman = []\n",
    "SVCgroup4reman = []\n",
    "SVCgroup5reman = []\n",
    "SVCgroup1nonreman = []\n",
    "SVCgroup2nonreman = []\n",
    "SVCgroup3nonreman = []\n",
    "SVCgroup4nonreman = []\n",
    "SVCgroup5nonreman = []\n",
    "\n",
    "\n",
    "\n",
    "for i in range(0,MPtotalSales.size):\n",
    "    if (MPtotalSales[i] > 100000 and MPtotalSales[i] <2000000):\n",
    "        if (MPreman[i] == 'reman'):\n",
    "            MPgroup1reman.append(MassProduction[i])\n",
    "            SVCgroup1reman.append(SVC[i])\n",
    "        elif (MPreman[i] == 'non-reman'):\n",
    "            MPgroup1nonreman.append(MassProduction[i])\n",
    "            SVCgroup1nonreman.append(SVC[i])\n",
    "    elif (MPtotalSales[i] >20000 and MPtotalSales[i] <99999):\n",
    "        if (MPreman[i] == 'reman'):\n",
    "            MPgroup2reman.append(MassProduction[i])\n",
    "            SVCgroup2reman.append(SVC[i])\n",
    "        elif (MPreman[i] == 'non-reman'):\n",
    "            MPgroup2nonreman.append(MassProduction[i])\n",
    "            SVCgroup2nonreman.append(SVC[i])\n",
    "    elif (MPtotalSales[i] >5000 and MPtotalSales[i] <19999):\n",
    "        if (MPreman[i] == 'reman'):\n",
    "            MPgroup3reman.append(MassProduction[i])\n",
    "            SVCgroup3reman.append(SVC[i])\n",
    "        elif (MPreman[i] == 'non-reman'):\n",
    "            MPgroup3nonreman.append(MassProduction[i])\n",
    "            SVCgroup3nonreman.append(SVC[i])\n",
    "    elif (MPtotalSales[i] > 1000 and MPtotalSales[i] < 4999):\n",
    "        if (MPreman[i] == 'reman'):\n",
    "            MPgroup4reman.append(MassProduction[i])\n",
    "            SVCgroup4reman.append(SVC[i])\n",
    "        elif (MPreman[i] == 'non-reman'):\n",
    "            MPgroup4nonreman.append(MassProduction[i])\n",
    "            SVCgroup4nonreman.append(SVC[i])\n",
    "    elif (MPtotalSales[i] < 999):\n",
    "        if (MPreman[i] == 'reman'):\n",
    "            MPgroup5reman.append(MassProduction[i])\n",
    "            SVCgroup5reman.append(SVC[i])\n",
    "        elif (MPreman[i] == 'non-reman'):\n",
    "            MPgroup5nonreman.append(MassProduction[i])\n",
    "            SVCgroup5nonreman.append(SVC[i])\n",
    "        \n",
    "MPgroup1reman = np.array(MPgroup1reman)\n",
    "MPgroup2reman = np.array(MPgroup2reman)\n",
    "MPgroup3reman = np.array(MPgroup3reman)\n",
    "MPgroup4reman = np.array(MPgroup4reman)\n",
    "MPgroup5reman = np.array(MPgroup5reman)\n",
    "SVCgroup1reman = np.array(SVCgroup1reman)\n",
    "SVCgroup2reman = np.array(SVCgroup2reman)\n",
    "SVCgroup3reman = np.array(SVCgroup3reman)\n",
    "SVCgroup4reman = np.array(SVCgroup4reman)\n",
    "SVCgroup5reman = np.array(SVCgroup5reman)\n",
    "MPgroup1nonreman = np.array(MPgroup1nonreman)\n",
    "\n",
    "MPgroup2nonreman = np.array(MPgroup2nonreman)\n",
    "MPgroup3nonreman = np.array(MPgroup3nonreman)\n",
    "MPgroup4nonreman = np.array(MPgroup4nonreman)\n",
    "MPgroup5nonreman = np.array(MPgroup5nonreman)\n",
    "SVCgroup1nonreman = np.array(SVCgroup1nonreman)\n",
    "SVCgroup2nonreman = np.array(SVCgroup2nonreman)\n",
    "SVCgroup3nonreman = np.array(SVCgroup3nonreman)\n",
    "SVCgroup4nonreman = np.array(SVCgroup4nonreman)\n",
    "SVCgroup5nonreman = np.array(SVCgroup5nonreman)"
   ]
  },
  {
   "cell_type": "markdown",
   "metadata": {},
   "source": [
    "It would make sense that groups the reman group would have overall a lower SVC parts sold because repair would have been an option. But I would have expected the graph to have some sort of linear correlation to it."
   ]
  },
  {
   "cell_type": "code",
   "execution_count": 334,
   "metadata": {},
   "outputs": [
    {
     "data": {
      "image/png": "[encoded data removed]",
      "text/plain": [
       "<matplotlib.figure.Figure at 0x216d1477198>"
      ]
     },
     "metadata": {},
     "output_type": "display_data"
    }
   ],
   "source": [
    "#looking at the graphs\n",
    "group1remanMP14yearSales = np.ravel(MPgroup1reman[:,20:21])\n",
    "group1remanSVC14yearSales = np.ravel(SVCgroup1reman[:,20:21])\n",
    "\n",
    "plt.plot(group1remanMP14yearSales,group1remanSVC14yearSales,'o')\n",
    "plt.xlabel('Sales in MP')\n",
    "plt.ylabel('Sales in SVC')\n",
    "plt.grid(True)"
   ]
  },
  {
   "cell_type": "markdown",
   "metadata": {},
   "source": [
    "This is the function that I used to create a linear model based on a given data set. X would usually be the MP value after 14 years of sales and Y would be the SVC value after 14 years of sales."
   ]
  },
  {
   "cell_type": "code",
   "execution_count": 335,
   "metadata": {},
   "outputs": [],
   "source": [
    "def fit_linear(x,y):\n",
    "    xm = np.mean(x)\n",
    "    ym = np.mean(y)\n",
    "    syy = np.mean((y-ym)**2)\n",
    "    sxy = np.mean((x-xm)*(y-ym))\n",
    "    sxx = np.mean((x-xm)**2)\n",
    "    beta1 = sxy/sxx\n",
    "    beta0 = ym - beta1*xm\n",
    "    rsq = sxy**2/sxx/syy\n",
    "    return beta0, beta1, rsq"
   ]
  },
  {
   "cell_type": "markdown",
   "metadata": {},
   "source": [
    "After looking at the scatter plot of the data it is not very surpising that they linear model that was created had such a low correlation."
   ]
  },
  {
   "cell_type": "code",
   "execution_count": 336,
   "metadata": {},
   "outputs": [
    {
     "name": "stdout",
     "output_type": "stream",
     "text": [
      "beta0 = -1243.848, beta1=0.022, rsq=0.101\n"
     ]
    },
    {
     "data": {
      "image/png": "[encoded data removed]",
      "text/plain": [
       "<matplotlib.figure.Figure at 0x216d13eb860>"
      ]
     },
     "metadata": {},
     "output_type": "display_data"
    }
   ],
   "source": [
    "beta0,beta1,rsq = fit_linear(group1remanMP14yearSales,group1remanSVC14yearSales)\n",
    "xp = np.linspace(100000,350000)\n",
    "yp = beta0 + beta1*xp\n",
    "\n",
    "plt.plot(group1MP14yearSales,group1SVC14yearSales,'o')\n",
    "plt.xlabel('Sales in MP')\n",
    "plt.ylabel('Sales in SVC')\n",
    "plt.plot(xp,yp,'-')\n",
    "plt.grid(True)\n",
    "\n",
    "print(\"beta0 = {0:5.3f}, beta1={1:5.3f}, rsq={2:5.3f}\".format(beta0,beta1,rsq))"
   ]
  },
  {
   "cell_type": "markdown",
   "metadata": {},
   "source": [
    "I decied that I wanted to run the same linear model for each of the data sets above. The nonreman data set for the large MP values seemed to follow more of what I expected to show up."
   ]
  },
  {
   "cell_type": "code",
   "execution_count": 337,
   "metadata": {},
   "outputs": [
    {
     "name": "stdout",
     "output_type": "stream",
     "text": [
      "beta0 = -111.069, beta1=0.013, rsq=0.644\n"
     ]
    },
    {
     "data": {
      "image/png": "[encoded data removed]",
      "text/plain": [
       "<matplotlib.figure.Figure at 0x216d13a7d68>"
      ]
     },
     "metadata": {},
     "output_type": "display_data"
    }
   ],
   "source": [
    "group1nonremanMP14yearSales = np.ravel(MPgroup1nonreman[:,20:21])\n",
    "group1nonremanSVC14yearSales = np.ravel(SVCgroup1nonreman[:,20:21])\n",
    "\n",
    "beta0,beta1,rsq = fit_linear(group1nonremanMP14yearSales,group1nonremanSVC14yearSales)\n",
    "xp = np.linspace(100000,1600000)\n",
    "yp = beta0 + beta1*xp\n",
    "\n",
    "plt.plot(group1nonremanMP14yearSales,group1nonremanSVC14yearSales,'o')\n",
    "plt.xlabel('Sales in MP')\n",
    "plt.ylabel('Sales in SVC')\n",
    "plt.plot(xp,yp,'-')\n",
    "plt.grid(True)\n",
    "\n",
    "print(\"beta0 = {0:5.3f}, beta1={1:5.3f}, rsq={2:5.3f}\".format(beta0,beta1,rsq))"
   ]
  },
  {
   "cell_type": "markdown",
   "metadata": {},
   "source": [
    "The rest of the graphs below all showed similar signs of the group 1 non reman parts. The r-squared value was very low and the line draw makes it seem like there is no correlation between the amount of parts sold in mass production to the number of parts sold in service parts. There are defintely are a few outliers in each data set to throw off the r-squared prediction but even if you omit them it still looks fairly constant in the number of parts needed in each range. "
   ]
  },
  {
   "cell_type": "code",
   "execution_count": 338,
   "metadata": {},
   "outputs": [
    {
     "name": "stdout",
     "output_type": "stream",
     "text": [
      "beta0 = 837.666, beta1=-0.001, rsq=0.001\n"
     ]
    },
    {
     "data": {
      "image/png": "[encoded data removed]",
      "text/plain": [
       "<matplotlib.figure.Figure at 0x216d158e898>"
      ]
     },
     "metadata": {},
     "output_type": "display_data"
    }
   ],
   "source": [
    "group2nonremanMP14yearSales = np.ravel(MPgroup2nonreman[:,20:21])\n",
    "group2nonremanSVC14yearSales = np.ravel(SVCgroup2nonreman[:,20:21])\n",
    "\n",
    "beta0,beta1,rsq = fit_linear(group2nonremanMP14yearSales,group2nonremanSVC14yearSales)\n",
    "xp = np.linspace(20000,100000)\n",
    "yp = beta0 + beta1*xp\n",
    "\n",
    "plt.plot(group2nonremanMP14yearSales,group2nonremanSVC14yearSales,'o')\n",
    "plt.xlabel('Sales in MP')\n",
    "plt.ylabel('Sales in SVC')\n",
    "plt.plot(xp,yp,'-')\n",
    "plt.grid(True)\n",
    "\n",
    "print(\"beta0 = {0:5.3f}, beta1={1:5.3f}, rsq={2:5.3f}\".format(beta0,beta1,rsq))"
   ]
  },
  {
   "cell_type": "code",
   "execution_count": 339,
   "metadata": {},
   "outputs": [
    {
     "name": "stdout",
     "output_type": "stream",
     "text": [
      "beta0 = 1553.428, beta1=-0.009, rsq=0.014\n"
     ]
    },
    {
     "data": {
      "image/png": "[encoded data removed]",
      "text/plain": [
       "<matplotlib.figure.Figure at 0x216d164ecc0>"
      ]
     },
     "metadata": {},
     "output_type": "display_data"
    }
   ],
   "source": [
    "group2remanMP14yearSales = np.ravel(MPgroup2reman[:,20:21])\n",
    "group2remanSVC14yearSales = np.ravel(SVCgroup2reman[:,20:21])\n",
    "\n",
    "beta0,beta1,rsq = fit_linear(group2remanMP14yearSales,group2remanSVC14yearSales)\n",
    "xp = np.linspace(20000,100000)\n",
    "yp = beta0 + beta1*xp\n",
    "\n",
    "plt.plot(group2remanMP14yearSales,group2remanSVC14yearSales,'o')\n",
    "plt.xlabel('Sales in MP')\n",
    "plt.ylabel('Sales in SVC')\n",
    "plt.plot(xp,yp,'-')\n",
    "plt.grid(True)\n",
    "\n",
    "print(\"beta0 = {0:5.3f}, beta1={1:5.3f}, rsq={2:5.3f}\".format(beta0,beta1,rsq))"
   ]
  },
  {
   "cell_type": "code",
   "execution_count": 340,
   "metadata": {},
   "outputs": [
    {
     "name": "stdout",
     "output_type": "stream",
     "text": [
      "beta0 = 48.730, beta1=0.052, rsq=0.028\n"
     ]
    },
    {
     "data": {
      "image/png": "[encoded data removed]",
      "text/plain": [
       "<matplotlib.figure.Figure at 0x216d1710a58>"
      ]
     },
     "metadata": {},
     "output_type": "display_data"
    }
   ],
   "source": [
    "group3nonremanMP14yearSales = np.ravel(MPgroup3nonreman[:,20:21])\n",
    "group3nonremanSVC14yearSales = np.ravel(SVCgroup3nonreman[:,20:21])\n",
    "\n",
    "beta0,beta1,rsq = fit_linear(group3nonremanMP14yearSales,group3nonremanSVC14yearSales)\n",
    "xp = np.linspace(5000,20000)\n",
    "yp = beta0 + beta1*xp\n",
    "\n",
    "plt.plot(group3nonremanMP14yearSales,group3nonremanSVC14yearSales,'o')\n",
    "plt.xlabel('Sales in MP')\n",
    "plt.ylabel('Sales in SVC')\n",
    "plt.plot(xp,yp,'-')\n",
    "plt.grid(True)\n",
    "\n",
    "print(\"beta0 = {0:5.3f}, beta1={1:5.3f}, rsq={2:5.3f}\".format(beta0,beta1,rsq))"
   ]
  },
  {
   "cell_type": "code",
   "execution_count": 341,
   "metadata": {},
   "outputs": [
    {
     "name": "stdout",
     "output_type": "stream",
     "text": [
      "beta0 = 226.608, beta1=-0.003, rsq=0.001\n"
     ]
    },
    {
     "data": {
      "image/png": "[encoded data removed]",
      "text/plain": [
       "<matplotlib.figure.Figure at 0x216d16a5d68>"
      ]
     },
     "metadata": {},
     "output_type": "display_data"
    }
   ],
   "source": [
    "group3remanMP14yearSales = np.ravel(MPgroup3reman[:,20:21])\n",
    "group3remanSVC14yearSales = np.ravel(SVCgroup3reman[:,20:21])\n",
    "\n",
    "beta0,beta1,rsq = fit_linear(group3remanMP14yearSales,group3remanSVC14yearSales)\n",
    "xp = np.linspace(5000,20000)\n",
    "yp = beta0 + beta1*xp\n",
    "\n",
    "plt.plot(group3remanMP14yearSales,group3remanSVC14yearSales,'o')\n",
    "plt.xlabel('Sales in MP')\n",
    "plt.ylabel('Sales in SVC')\n",
    "plt.plot(xp,yp,'-')\n",
    "plt.grid(True)\n",
    "\n",
    "print(\"beta0 = {0:5.3f}, beta1={1:5.3f}, rsq={2:5.3f}\".format(beta0,beta1,rsq))"
   ]
  },
  {
   "cell_type": "code",
   "execution_count": 342,
   "metadata": {},
   "outputs": [
    {
     "name": "stdout",
     "output_type": "stream",
     "text": [
      "beta0 = 74.025, beta1=0.096, rsq=0.018\n"
     ]
    },
    {
     "data": {
      "image/png": "[encoded data removed]",
      "text/plain": [
       "<matplotlib.figure.Figure at 0x216d136c2e8>"
      ]
     },
     "metadata": {},
     "output_type": "display_data"
    }
   ],
   "source": [
    "group4remanMP14yearSales = np.ravel(MPgroup4reman[:,20:21])\n",
    "group4remanSVC14yearSales = np.ravel(SVCgroup4reman[:,20:21])\n",
    "\n",
    "beta0,beta1,rsq = fit_linear(group4remanMP14yearSales,group4remanSVC14yearSales)\n",
    "xp = np.linspace(1000,5000)\n",
    "yp = beta0 + beta1*xp\n",
    "\n",
    "plt.plot(group4remanMP14yearSales,group4remanSVC14yearSales,'o')\n",
    "plt.xlabel('Sales in MP')\n",
    "plt.ylabel('Sales in SVC')\n",
    "plt.plot(xp,yp,'-')\n",
    "plt.grid(True)\n",
    "\n",
    "print(\"beta0 = {0:5.3f}, beta1={1:5.3f}, rsq={2:5.3f}\".format(beta0,beta1,rsq))"
   ]
  },
  {
   "cell_type": "markdown",
   "metadata": {},
   "source": [
    "I decied not to show most of the other calculations because it was all fairly the same or there was not enough data in each set to mean anything."
   ]
  },
  {
   "cell_type": "markdown",
   "metadata": {},
   "source": [
    "## Linear Regression modeling\n",
    "\n",
    "I decided to take the model that I thought had the most promise in and ran a linear regression model on it. I fit the model to 2/3 of the data and tested it on the other 1/3. I ran the model using the 14-years of mass production and the total SVC part sale in total."
   ]
  },
  {
   "cell_type": "code",
   "execution_count": 343,
   "metadata": {},
   "outputs": [
    {
     "name": "stderr",
     "output_type": "stream",
     "text": [
      "C:\\Users\\chris\\Anaconda3\\lib\\site-packages\\sklearn\\utils\\validation.py:429: DataConversionWarning: Data with input dtype object was converted to float64 by the scale function.\n",
      "  warnings.warn(msg, _DataConversionWarning)\n"
     ]
    },
    {
     "data": {
      "text/plain": [
       "LinearRegression(copy_X=True, fit_intercept=True, n_jobs=1, normalize=False)"
      ]
     },
     "execution_count": 343,
     "metadata": {},
     "output_type": "execute_result"
    }
   ],
   "source": [
    "from sklearn import linear_model, preprocessing\n",
    "from sklearn.model_selection import KFold\n",
    "from sklearn.metrics import precision_recall_fscore_support\n",
    "\n",
    "regr = linear_model.LinearRegression()\n",
    "logreg = linear_model.LogisticRegression(C=1e5)\n",
    "\n",
    "Xs = MPgroup1nonreman[:,7:20]\n",
    "Xs = preprocessing.scale(Xs)\n",
    "\n",
    "ns_train = int(group1nonremanSVC14yearSales.size *2/3)\n",
    "ns_test = int(group1nonremanSVC14yearSales.size) - ns_train\n",
    "\n",
    "X_tr = Xs[:ns_train,:]\n",
    "y_tr = group1nonremanSVC14yearSales[:ns_train]\n",
    "X_ts = Xs[ns_test:,:]\n",
    "y_ts = group1nonremanSVC14yearSales[ns_test:]\n",
    "\n",
    "regr.fit(X_tr,y_tr)"
   ]
  },
  {
   "cell_type": "markdown",
   "metadata": {},
   "source": [
    "Overall, even though the R-squared value is in the negative, by looking at the group it seems like one outlier completely threw off the r-squared value. But if we ignore it and look at the line of the actual vs predicted seems to fit fairly well on the data."
   ]
  },
  {
   "cell_type": "code",
   "execution_count": 344,
   "metadata": {
    "scrolled": true
   },
   "outputs": [
    {
     "name": "stdout",
     "output_type": "stream",
     "text": [
      "R^2 = -0.116710\n"
     ]
    },
    {
     "data": {
      "text/plain": [
       "[<matplotlib.lines.Line2D at 0x216d1679d68>]"
      ]
     },
     "execution_count": 344,
     "metadata": {},
     "output_type": "execute_result"
    },
    {
     "data": {
      "image/png": "[encoded data removed]",
      "text/plain": [
       "<matplotlib.figure.Figure at 0x216d1679e80>"
      ]
     },
     "metadata": {},
     "output_type": "display_data"
    }
   ],
   "source": [
    "ytrain_pred = regr.predict(X_ts)\n",
    "\n",
    "RSS_tr = np.mean((ytrain_pred-y_ts)**2)/(np.std(y_ts)**2)\n",
    "Rsq_tr = 1-RSS_tr\n",
    "print(\"R^2 = {0:f}\".format(Rsq_tr))\n",
    "plt.plot(y_ts,ytrain_pred,'o')\n",
    "plt.xlabel('Actual')\n",
    "plt.ylabel('Predicted')\n",
    "plt.grid(True)\n",
    "\n",
    "xp = np.linspace(0,25000)\n",
    "yp = 0 + 1*xp\n",
    "\n",
    "plt.plot(xp,yp,'-')"
   ]
  },
  {
   "cell_type": "markdown",
   "metadata": {},
   "source": [
    "## Evaluation and Interpretation\n",
    "\n",
    "Overall, I feel like these results by themeselves will not be very useful, but I think I come out better understanding how I should have approached the problem. One of the major flaw that I should keep in mind, is that even though I seperated my data into 10 groups of reman/non-reman and number of mass production sales, I should have also seperated the data even more into their specific category of parts. It is obvious that different types of parts would need more replacement than other parts. Maybe if I took this into account then I would have a more definite answer of the data being linearly correlated or not. \n",
    "\n",
    "I think if I had a larger data set then I think I would have been more bold in seperating my data into more categories. But since I was only given data on around 200 parts, I felt like the more I tried to seperate the data, the more trouble I would have to interpreting the results, but it feels like the opposite has happened."
   ]
  },
  {
   "cell_type": "code",
   "execution_count": null,
   "metadata": {
    "collapsed": true
   },
   "outputs": [],
   "source": []
  }
 ],
 "metadata": {
  "kernelspec": {
   "display_name": "Python 3",
   "language": "python",
   "name": "python3"
  },
  "language_info": {
   "codemirror_mode": {
    "name": "ipython",
    "version": 3
   },
   "file_extension": ".py",
   "mimetype": "text/x-python",
   "name": "python",
   "nbconvert_exporter": "python",
   "pygments_lexer": "ipython3",
   "version": "3.6.1"
  }
 },
 "nbformat": 4,
 "nbformat_minor": 2
}
